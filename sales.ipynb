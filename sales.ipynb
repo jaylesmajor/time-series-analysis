{
 "cells": [
  {
   "cell_type": "markdown",
   "metadata": {},
   "source": [
    "### **Load Data**"
   ]
  },
  {
   "cell_type": "code",
   "execution_count": 1,
   "metadata": {},
   "outputs": [
    {
     "data": {
      "text/html": [
       "<div>\n",
       "<style scoped>\n",
       "    .dataframe tbody tr th:only-of-type {\n",
       "        vertical-align: middle;\n",
       "    }\n",
       "\n",
       "    .dataframe tbody tr th {\n",
       "        vertical-align: top;\n",
       "    }\n",
       "\n",
       "    .dataframe thead th {\n",
       "        text-align: right;\n",
       "    }\n",
       "</style>\n",
       "<table border=\"1\" class=\"dataframe\">\n",
       "  <thead>\n",
       "    <tr style=\"text-align: right;\">\n",
       "      <th></th>\n",
       "      <th>Date</th>\n",
       "      <th>Store</th>\n",
       "      <th>Product</th>\n",
       "      <th>Value</th>\n",
       "    </tr>\n",
       "  </thead>\n",
       "  <tbody>\n",
       "    <tr>\n",
       "      <th>0</th>\n",
       "      <td>20180101</td>\n",
       "      <td>LOS_ANGELES</td>\n",
       "      <td>TESLA_MODEL_X</td>\n",
       "      <td>2926.000</td>\n",
       "    </tr>\n",
       "    <tr>\n",
       "      <th>1</th>\n",
       "      <td>20180102</td>\n",
       "      <td>LOS_ANGELES</td>\n",
       "      <td>TESLA_MODEL_X</td>\n",
       "      <td>2687.531</td>\n",
       "    </tr>\n",
       "    <tr>\n",
       "      <th>2</th>\n",
       "      <td>20180103</td>\n",
       "      <td>LOS_ANGELES</td>\n",
       "      <td>TESLA_MODEL_X</td>\n",
       "      <td>2793.000</td>\n",
       "    </tr>\n",
       "    <tr>\n",
       "      <th>3</th>\n",
       "      <td>20180104</td>\n",
       "      <td>LOS_ANGELES</td>\n",
       "      <td>TESLA_MODEL_X</td>\n",
       "      <td>2394.000</td>\n",
       "    </tr>\n",
       "    <tr>\n",
       "      <th>4</th>\n",
       "      <td>20180105</td>\n",
       "      <td>LOS_ANGELES</td>\n",
       "      <td>TESLA_MODEL_X</td>\n",
       "      <td>2660.000</td>\n",
       "    </tr>\n",
       "  </tbody>\n",
       "</table>\n",
       "</div>"
      ],
      "text/plain": [
       "       Date        Store        Product     Value\n",
       "0  20180101  LOS_ANGELES  TESLA_MODEL_X  2926.000\n",
       "1  20180102  LOS_ANGELES  TESLA_MODEL_X  2687.531\n",
       "2  20180103  LOS_ANGELES  TESLA_MODEL_X  2793.000\n",
       "3  20180104  LOS_ANGELES  TESLA_MODEL_X  2394.000\n",
       "4  20180105  LOS_ANGELES  TESLA_MODEL_X  2660.000"
      ]
     },
     "execution_count": 1,
     "metadata": {},
     "output_type": "execute_result"
    }
   ],
   "source": [
    "import pandas as pd \n",
    "\n",
    "def load_data(file_path):\n",
    "    df = pd.read_csv(file_path)\n",
    "\n",
    "    return df \n",
    "\n",
    "file_path ='data/dataset.csv'\n",
    "\n",
    "df = load_data(file_path)\n",
    "df.head()"
   ]
  },
  {
   "cell_type": "markdown",
   "metadata": {},
   "source": [
    "### **EDA**"
   ]
  },
  {
   "cell_type": "code",
   "execution_count": 2,
   "metadata": {},
   "outputs": [
    {
     "name": "stdout",
     "output_type": "stream",
     "text": [
      "<class 'pandas.core.frame.DataFrame'>\n",
      "RangeIndex: 4320 entries, 0 to 4319\n",
      "Data columns (total 4 columns):\n",
      " #   Column   Non-Null Count  Dtype  \n",
      "---  ------   --------------  -----  \n",
      " 0   Date     4320 non-null   int64  \n",
      " 1   Store    4320 non-null   object \n",
      " 2   Product  4320 non-null   object \n",
      " 3   Value    4320 non-null   float64\n",
      "dtypes: float64(1), int64(1), object(2)\n",
      "memory usage: 135.1+ KB\n",
      "Data Structures : None\n",
      "\n",
      "Duplicates : 0\n",
      "\n",
      "Missing Values : Date       0\n",
      "Store      0\n",
      "Product    0\n",
      "Value      0\n",
      "dtype: int64\n"
     ]
    }
   ],
   "source": [
    "# EDA \n",
    "def perform_eda(df):\n",
    "    duplicates = df.duplicated().sum()\n",
    "    missing_vlaues = df.isna().sum()\n",
    "    data_info = df.info()\n",
    "\n",
    "    print(f'Data Structures : {data_info}')\n",
    "    print(f'\\nDuplicates : {duplicates}')\n",
    "    print(f'\\nMissing Values : {missing_vlaues}')\n",
    "\n",
    "perform_eda(df)\n",
    "\n"
   ]
  },
  {
   "cell_type": "code",
   "execution_count": 4,
   "metadata": {},
   "outputs": [
    {
     "name": "stdout",
     "output_type": "stream",
     "text": [
      "Summary Statistics\n"
     ]
    },
    {
     "data": {
      "text/html": [
       "<div>\n",
       "<style scoped>\n",
       "    .dataframe tbody tr th:only-of-type {\n",
       "        vertical-align: middle;\n",
       "    }\n",
       "\n",
       "    .dataframe tbody tr th {\n",
       "        vertical-align: top;\n",
       "    }\n",
       "\n",
       "    .dataframe thead th {\n",
       "        text-align: right;\n",
       "    }\n",
       "</style>\n",
       "<table border=\"1\" class=\"dataframe\">\n",
       "  <thead>\n",
       "    <tr style=\"text-align: right;\">\n",
       "      <th></th>\n",
       "      <th>count</th>\n",
       "      <th>mean</th>\n",
       "      <th>std</th>\n",
       "      <th>min</th>\n",
       "      <th>25%</th>\n",
       "      <th>50%</th>\n",
       "      <th>75%</th>\n",
       "      <th>max</th>\n",
       "    </tr>\n",
       "  </thead>\n",
       "  <tbody>\n",
       "    <tr>\n",
       "      <th>Date</th>\n",
       "      <td>4320.0</td>\n",
       "      <td>2.019052e+07</td>\n",
       "      <td>8133.852771</td>\n",
       "      <td>2.018010e+07</td>\n",
       "      <td>2.018093e+07</td>\n",
       "      <td>20190624.5</td>\n",
       "      <td>20200321.25</td>\n",
       "      <td>2.020122e+07</td>\n",
       "    </tr>\n",
       "    <tr>\n",
       "      <th>Value</th>\n",
       "      <td>4320.0</td>\n",
       "      <td>3.964446e+03</td>\n",
       "      <td>1447.632879</td>\n",
       "      <td>1.838532e+03</td>\n",
       "      <td>2.580927e+03</td>\n",
       "      <td>3997.1</td>\n",
       "      <td>5187.00</td>\n",
       "      <td>8.989514e+03</td>\n",
       "    </tr>\n",
       "  </tbody>\n",
       "</table>\n",
       "</div>"
      ],
      "text/plain": [
       "        count          mean          std           min           25%  \\\n",
       "Date   4320.0  2.019052e+07  8133.852771  2.018010e+07  2.018093e+07   \n",
       "Value  4320.0  3.964446e+03  1447.632879  1.838532e+03  2.580927e+03   \n",
       "\n",
       "              50%          75%           max  \n",
       "Date   20190624.5  20200321.25  2.020122e+07  \n",
       "Value      3997.1      5187.00  8.989514e+03  "
      ]
     },
     "execution_count": 4,
     "metadata": {},
     "output_type": "execute_result"
    }
   ],
   "source": [
    "# Check statistics\n",
    "statistics = df.describe().T\n",
    "print('Summary Statistics')\n",
    "statistics"
   ]
  },
  {
   "cell_type": "code",
   "execution_count": 6,
   "metadata": {},
   "outputs": [
    {
     "name": "stdout",
     "output_type": "stream",
     "text": [
      "Unique values in Date columns:\n",
      "[20180101 20180102 20180103 ... 20201214 20201215 20201216]\n",
      "------------------------------------------------------------\n",
      "Unique values in Store columns:\n",
      "['LOS_ANGELES' 'SAN_FRANCISCO']\n",
      "------------------------------------------------------------\n",
      "Unique values in Product columns:\n",
      "['TESLA_MODEL_X' 'TESLA_MODEL_S']\n",
      "------------------------------------------------------------\n",
      "Unique values in Value columns:\n",
      "[2926.       2687.531    2793.       ... 3045.01906  2443.132196\n",
      " 2326.531596]\n",
      "------------------------------------------------------------\n"
     ]
    }
   ],
   "source": [
    "# Check unique values \n",
    "def check_unique_values(df):\n",
    "    for column_name in df.columns:\n",
    "        print(f'Unique values in {column_name} columns:')\n",
    "        unique_values = df[column_name].unique()\n",
    "        print(unique_values)\n",
    "        print('--'*30)\n",
    "\n",
    "check_unique_values(df)"
   ]
  },
  {
   "cell_type": "markdown",
   "metadata": {},
   "source": [
    "### **Feature Engineering**"
   ]
  },
  {
   "cell_type": "code",
   "execution_count": 7,
   "metadata": {},
   "outputs": [
    {
     "data": {
      "text/html": [
       "<div>\n",
       "<style scoped>\n",
       "    .dataframe tbody tr th:only-of-type {\n",
       "        vertical-align: middle;\n",
       "    }\n",
       "\n",
       "    .dataframe tbody tr th {\n",
       "        vertical-align: top;\n",
       "    }\n",
       "\n",
       "    .dataframe thead th {\n",
       "        text-align: right;\n",
       "    }\n",
       "</style>\n",
       "<table border=\"1\" class=\"dataframe\">\n",
       "  <thead>\n",
       "    <tr style=\"text-align: right;\">\n",
       "      <th></th>\n",
       "      <th>Date</th>\n",
       "      <th>Store</th>\n",
       "      <th>Product</th>\n",
       "      <th>Value</th>\n",
       "    </tr>\n",
       "  </thead>\n",
       "  <tbody>\n",
       "    <tr>\n",
       "      <th>0</th>\n",
       "      <td>20180101</td>\n",
       "      <td>LOS_ANGELES</td>\n",
       "      <td>TESLA_MODEL_X</td>\n",
       "      <td>2926.000</td>\n",
       "    </tr>\n",
       "    <tr>\n",
       "      <th>1</th>\n",
       "      <td>20180102</td>\n",
       "      <td>LOS_ANGELES</td>\n",
       "      <td>TESLA_MODEL_X</td>\n",
       "      <td>2687.531</td>\n",
       "    </tr>\n",
       "    <tr>\n",
       "      <th>2</th>\n",
       "      <td>20180103</td>\n",
       "      <td>LOS_ANGELES</td>\n",
       "      <td>TESLA_MODEL_X</td>\n",
       "      <td>2793.000</td>\n",
       "    </tr>\n",
       "    <tr>\n",
       "      <th>3</th>\n",
       "      <td>20180104</td>\n",
       "      <td>LOS_ANGELES</td>\n",
       "      <td>TESLA_MODEL_X</td>\n",
       "      <td>2394.000</td>\n",
       "    </tr>\n",
       "    <tr>\n",
       "      <th>4</th>\n",
       "      <td>20180105</td>\n",
       "      <td>LOS_ANGELES</td>\n",
       "      <td>TESLA_MODEL_X</td>\n",
       "      <td>2660.000</td>\n",
       "    </tr>\n",
       "  </tbody>\n",
       "</table>\n",
       "</div>"
      ],
      "text/plain": [
       "       Date        Store        Product     Value\n",
       "0  20180101  LOS_ANGELES  TESLA_MODEL_X  2926.000\n",
       "1  20180102  LOS_ANGELES  TESLA_MODEL_X  2687.531\n",
       "2  20180103  LOS_ANGELES  TESLA_MODEL_X  2793.000\n",
       "3  20180104  LOS_ANGELES  TESLA_MODEL_X  2394.000\n",
       "4  20180105  LOS_ANGELES  TESLA_MODEL_X  2660.000"
      ]
     },
     "execution_count": 7,
     "metadata": {},
     "output_type": "execute_result"
    }
   ],
   "source": [
    "# Create dataframe for the LA store and Model X\n",
    "df = df[(df['Store'] == 'LOS_ANGELES') & (df['Product'] == 'TESLA_MODEL_X')]\n",
    "df.head()"
   ]
  },
  {
   "cell_type": "code",
   "execution_count": 8,
   "metadata": {},
   "outputs": [
    {
     "data": {
      "text/html": [
       "<div>\n",
       "<style scoped>\n",
       "    .dataframe tbody tr th:only-of-type {\n",
       "        vertical-align: middle;\n",
       "    }\n",
       "\n",
       "    .dataframe tbody tr th {\n",
       "        vertical-align: top;\n",
       "    }\n",
       "\n",
       "    .dataframe thead th {\n",
       "        text-align: right;\n",
       "    }\n",
       "</style>\n",
       "<table border=\"1\" class=\"dataframe\">\n",
       "  <thead>\n",
       "    <tr style=\"text-align: right;\">\n",
       "      <th></th>\n",
       "      <th>Date</th>\n",
       "      <th>Store</th>\n",
       "      <th>Product</th>\n",
       "      <th>Value</th>\n",
       "      <th>ds</th>\n",
       "    </tr>\n",
       "  </thead>\n",
       "  <tbody>\n",
       "    <tr>\n",
       "      <th>0</th>\n",
       "      <td>20180101</td>\n",
       "      <td>LOS_ANGELES</td>\n",
       "      <td>TESLA_MODEL_X</td>\n",
       "      <td>2926.000</td>\n",
       "      <td>2018-01-01</td>\n",
       "    </tr>\n",
       "    <tr>\n",
       "      <th>1</th>\n",
       "      <td>20180102</td>\n",
       "      <td>LOS_ANGELES</td>\n",
       "      <td>TESLA_MODEL_X</td>\n",
       "      <td>2687.531</td>\n",
       "      <td>2018-01-02</td>\n",
       "    </tr>\n",
       "    <tr>\n",
       "      <th>2</th>\n",
       "      <td>20180103</td>\n",
       "      <td>LOS_ANGELES</td>\n",
       "      <td>TESLA_MODEL_X</td>\n",
       "      <td>2793.000</td>\n",
       "      <td>2018-01-03</td>\n",
       "    </tr>\n",
       "    <tr>\n",
       "      <th>3</th>\n",
       "      <td>20180104</td>\n",
       "      <td>LOS_ANGELES</td>\n",
       "      <td>TESLA_MODEL_X</td>\n",
       "      <td>2394.000</td>\n",
       "      <td>2018-01-04</td>\n",
       "    </tr>\n",
       "    <tr>\n",
       "      <th>4</th>\n",
       "      <td>20180105</td>\n",
       "      <td>LOS_ANGELES</td>\n",
       "      <td>TESLA_MODEL_X</td>\n",
       "      <td>2660.000</td>\n",
       "      <td>2018-01-05</td>\n",
       "    </tr>\n",
       "  </tbody>\n",
       "</table>\n",
       "</div>"
      ],
      "text/plain": [
       "       Date        Store        Product     Value         ds\n",
       "0  20180101  LOS_ANGELES  TESLA_MODEL_X  2926.000 2018-01-01\n",
       "1  20180102  LOS_ANGELES  TESLA_MODEL_X  2687.531 2018-01-02\n",
       "2  20180103  LOS_ANGELES  TESLA_MODEL_X  2793.000 2018-01-03\n",
       "3  20180104  LOS_ANGELES  TESLA_MODEL_X  2394.000 2018-01-04\n",
       "4  20180105  LOS_ANGELES  TESLA_MODEL_X  2660.000 2018-01-05"
      ]
     },
     "execution_count": 8,
     "metadata": {},
     "output_type": "execute_result"
    }
   ],
   "source": [
    "# Create a ds column and format the Date column into datetime \n",
    "df['ds'] = pd.to_datetime(df['Date'], format='%Y%m%d')\n",
    "\n",
    "# Check transformation \n",
    "df.head()"
   ]
  },
  {
   "cell_type": "code",
   "execution_count": 9,
   "metadata": {},
   "outputs": [
    {
     "data": {
      "text/html": [
       "<div>\n",
       "<style scoped>\n",
       "    .dataframe tbody tr th:only-of-type {\n",
       "        vertical-align: middle;\n",
       "    }\n",
       "\n",
       "    .dataframe tbody tr th {\n",
       "        vertical-align: top;\n",
       "    }\n",
       "\n",
       "    .dataframe thead th {\n",
       "        text-align: right;\n",
       "    }\n",
       "</style>\n",
       "<table border=\"1\" class=\"dataframe\">\n",
       "  <thead>\n",
       "    <tr style=\"text-align: right;\">\n",
       "      <th></th>\n",
       "      <th>y</th>\n",
       "      <th>ds</th>\n",
       "    </tr>\n",
       "  </thead>\n",
       "  <tbody>\n",
       "    <tr>\n",
       "      <th>0</th>\n",
       "      <td>2926.000</td>\n",
       "      <td>2018-01-01</td>\n",
       "    </tr>\n",
       "    <tr>\n",
       "      <th>1</th>\n",
       "      <td>2687.531</td>\n",
       "      <td>2018-01-02</td>\n",
       "    </tr>\n",
       "    <tr>\n",
       "      <th>2</th>\n",
       "      <td>2793.000</td>\n",
       "      <td>2018-01-03</td>\n",
       "    </tr>\n",
       "    <tr>\n",
       "      <th>3</th>\n",
       "      <td>2394.000</td>\n",
       "      <td>2018-01-04</td>\n",
       "    </tr>\n",
       "    <tr>\n",
       "      <th>4</th>\n",
       "      <td>2660.000</td>\n",
       "      <td>2018-01-05</td>\n",
       "    </tr>\n",
       "  </tbody>\n",
       "</table>\n",
       "</div>"
      ],
      "text/plain": [
       "          y         ds\n",
       "0  2926.000 2018-01-01\n",
       "1  2687.531 2018-01-02\n",
       "2  2793.000 2018-01-03\n",
       "3  2394.000 2018-01-04\n",
       "4  2660.000 2018-01-05"
      ]
     },
     "execution_count": 9,
     "metadata": {},
     "output_type": "execute_result"
    }
   ],
   "source": [
    "# Drop irrelevant columns\n",
    "df = df.drop(['Date', 'Store', 'Product'], axis=1)\n",
    "\n",
    "# Rename value to y \n",
    "df = df.rename(columns={'Value': 'y'})\n",
    "\n",
    "# Check trtansformation\n",
    "df.head()"
   ]
  },
  {
   "cell_type": "code",
   "execution_count": null,
   "metadata": {},
   "outputs": [],
   "source": []
  },
  {
   "cell_type": "markdown",
   "metadata": {},
   "source": [
    "### **Data Visualization**"
   ]
  },
  {
   "cell_type": "code",
   "execution_count": null,
   "metadata": {},
   "outputs": [],
   "source": []
  },
  {
   "cell_type": "markdown",
   "metadata": {},
   "source": [
    "### **Machine learning**"
   ]
  },
  {
   "cell_type": "markdown",
   "metadata": {},
   "source": [
    "### **Evaluation**"
   ]
  },
  {
   "cell_type": "markdown",
   "metadata": {},
   "source": [
    "### **Model Fine-Tuning**"
   ]
  }
 ],
 "metadata": {
  "kernelspec": {
   "display_name": ".venv",
   "language": "python",
   "name": "python3"
  },
  "language_info": {
   "codemirror_mode": {
    "name": "ipython",
    "version": 3
   },
   "file_extension": ".py",
   "mimetype": "text/x-python",
   "name": "python",
   "nbconvert_exporter": "python",
   "pygments_lexer": "ipython3",
   "version": "3.11.5"
  }
 },
 "nbformat": 4,
 "nbformat_minor": 2
}
